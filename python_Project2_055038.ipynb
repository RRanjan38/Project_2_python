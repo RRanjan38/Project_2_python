{
 "cells": [
  {
   "cell_type": "markdown",
   "id": "e05db8dd-15e1-4db7-9c39-0a6feaac93e0",
   "metadata": {},
   "source": [
    "# **Project Report on Imports and Exports Data Analysis**"
   ]
  },
  {
   "cell_type": "markdown",
   "id": "9452e3cd-783c-4255-8d7d-2d1f8af12375",
   "metadata": {},
   "source": [
    "## **Project Information**\n",
    "* **Project Title**: Robust Analysis of Global Import and Export Data\n",
    "* **Student Name**: Rajiv Ranjan\n",
    "* **Enrollment Number** : 055038"
   ]
  },
  {
   "cell_type": "markdown",
   "id": "169d1720-27c8-413b-b812-5841f9e9985d",
   "metadata": {},
   "source": [
    "## **<u>Description of Data</u>**\n",
    "\n",
    " **1.Data Source & Size:**\n",
    "\n",
    "* Source: The dataset for this project was obtained from Kaggle.(https://www.kaggle.com/datasets/chakilamvishwas/imports-exports-15000 )\r\n",
    "\r\n",
    "\n",
    "* Size: 15,000 records with 16 variables.\n",
    "  \n",
    "  \n",
    " **2. Data Type:**\n",
    "This is a Cross-sectional dataset, capturing transactional data at a specific point in time.\n",
    "\n",
    "\n",
    "  **3.Data Dimension:**\n",
    "\n",
    "* Number of Variables: 16\n",
    "* Number of Observations: 15,000\n",
    "  \n",
    "  \n",
    " **4.Data Variable Type:**\n",
    "\n",
    "* Text Variables:\n",
    "Transaction_ID, Country, Product, Import_Export, Date, Category, Port, Shipping_Method, Supplier, Customer, Payment_Terms\n",
    "* Number Variables:\n",
    "Integer: Quantity, Customs_Code, Invoice_Number\n",
    "* Decimal: Value, Weight\n",
    "\n",
    "\n",
    " **5.Data Variable Category**:\n",
    "\n",
    "* Index: Transaction_ID, Invoice_Number (used for identifying each transaction)\n",
    "* Categorical (Nominal): Country, Product, Import_Export, Category, Port, Shipping_Method, Supplier, Customer, Payment_Terms\n",
    "* Non-Categorical: Quantity, Value, Customs_Code, Weight\n",
    "\n",
    "\n",
    "## **Project Objectives**\n",
    "* 1.To compare trade activities between countries from different regions.\n",
    "\n",
    "* 2.To identify which shipping methods are more commonly used for import v/s exports.\n",
    "\n",
    "* 3.To determine which products generate the highest value to focus on profitable items.\n",
    "\n",
    "* 4.To determine which countries contribute the most to total value and quantity ,    indicating key markets.\n",
    "\n",
    "* 5.To determine the proportion of each shipping methods to assess which mode is the most frequently used .\n",
    "\n",
    "* 6.To determine whether there is balanced proportion between imports and exports or if it leans more towards either.\n",
    "\n",
    "* 7.Calculating the mean , median , mode for the quantity , value and weight variable to provide a statistical summary of the dataset's central tendency.\n",
    "  \n",
    "* 8.Analyzing skewness and kurtosis in the dataset to assess the distibution characteristics of the quantitative variables.\n",
    "  \n",
    "* 9.To Evaluate the relationship between key independent variables - specially quantity and weight and the dependent variable - value\n",
    "\n",
    "* 10. To identify the most significant combinations of the countries and shipping methods that contribute the most to overall trade.\n",
    "      \n",
    "* 11.To assess whether there are significant differences in the median shipment values across various shipping methods using the Kruskal-Wallis test.\n",
    "\n",
    "* 12.To assess the differences in monetary values between export and import transactions within the dataset, utilizing the Mann-Whitney U test \n",
    "\n",
    "## **Observations**\n",
    "* **1**.Countries like Albania are more export-oriented, while countries like Afghanistan and Andorra show a reliance on imports. The varying counts highlight different trade dynamics. For instance, countries with more exports may have more robust industries or products that are in demand internationally.\n",
    "\n",
    "* **2**.Sea shipping is predominantly used for exports, while air and land shipping have a slight bias towards imports. The consistency in higher import counts for air and land methods may reflect a strategy of obtaining goods quickly, which is common for imports. This might also indicate the nature of the goods (e.g., perishables, high-demand items) that require faster transport. The sea method's stronger export numbers suggest it is effectively utilized for trading goods on a larger scale, likely due to lower shipping costs for bulk items, which may not be as time-sensitive.\n",
    "\n",
    "* **3**.The close values among the top four categories (Home, Animal, Various, and Country) suggest that the market may be quite competitive, with products in these categories likely appealing to similar customer segments. The significant difference between the average value of \"Return\" and the other categories might imply that returns are generally less valuable, possibly due to depreciation or being lower-quality items.\r\n",
    "  \r\n",
    "The high average values for \"Home\" and \"Animal\" suggest strong market demand, whil    e the lower average for \"Return\" indicates a different nature of these transaction\n",
    "\n",
    "* **4**.Congo's Leadership: The highest total value and quantity indicate it may be a primary hub for certain goods, possibly reflecting specific trade relationships or industries.The values for Uzbekistan and Sweden show strong economic activity, potentially in similar or complementary markets.\n",
    "\n",
    "* **5**.The proportions for land and air shipping are very close, suggesting that both methods are almost equally favored. This balance could indicate that businesses are using both methods interchangeably depending on specific logistical needs. Sea shipping, while slightly lower in proportion, is still a critical part of the logistics strategy, particularly for bulk and international shipping.\n",
    "\n",
    "* **6**.Import: 0.502832 (50.28%) Imports account for approximately 50.28% of the total transactions. This indicates a slight majority, suggesting that more goods are being brought into the country compared to what is being exported.\r\n",
    "\r\n",
    "Export: 0.497168 (49.72%) Exports make up about 49.72% of the total transactions. This is very close to the import proportion, indicating a nearly balanced trade situation. Analysis of Balance:\r\n",
    "\r\n",
    "The close proportions (50.28% for imports and 49.72% for exports) suggest a fairly balanced trade environment, where imports and exports are almost equal. This slight lean towards imports could indicate a market that is dependent on foreign goods or raw materials while still maintaining a robust export capabil\n",
    "\n",
    "* **7**.The mean and median values for both Quantity and Value are very close, indicating a relatively normal distribution without extreme outliers. This consistency suggests stable performance in sales and inventory management.The average quantity of about 4958 units indicates a substantial volume of goods being handled.The average value per unit (approximately 5132.16) reflects the selling price or market value of the products.The range of modes for weight suggests diversity in the types of products being handled.\n",
    "\n",
    "*  **8**.\n",
    "Skewness Analysis:\n",
    "\n",
    "Quantity: The skewness close to zero indicates that the distribution of quantity sold is approximately symmetric. \n",
    "\n",
    "Value: The slight negative skew suggests that while most values are around the mean, there are a few higher-value transactions. \n",
    "\n",
    "Weight: Similar to quantity, the nearly zero skewness indicates a balanced distribution, suggesting uniformity in product weights, which aids in logistics planning.\n",
    "\n",
    "Kurtosis Analysis:\n",
    "\n",
    "All Variables: The negative kurtosis values indicate that the distributions are platykurtic, meaning they are flatter than a normal distribution. This suggests lower likelihoods of extreme values (outliers) in the data.\n",
    "\n",
    "* **9**.The model indicates that while the Weight of the items has a statistically significant positive relationship with the Value, the Quantity does not show a significant relationship.\n",
    "The overall model explains very little of the variance in Value, suggesting that additional factors not included in this analysis may be influencing the dependent variable. It may be beneficial to explore other independent variables or interactions to improve the model's performance.\n",
    "\n",
    "The R-squared value of 0.002 suggests that only 0.2% of the variance in the dependent variable (Value) can be explained by the independent variables (Quantity and Weight). This indicates a poor fit of the model.\n",
    "\n",
    "* **10**.Ghana (Air): Value: 77,221.50 Ghana shows the highest value using air shipping, indicating a significant reliance on air transport for importing or exporting goods, possibly due to the need for speed or high-value items.\r\n",
    "\r\n",
    "Sweden (Land): Value: 70,073.67 Sweden utilizes land shipping effectively, suggesting a strong logistics network for moving goods domestically or to neighboring countrie\n",
    "\n",
    "* **11**.Based on the results of the Kruskal-Wallis test, we failed to reject the null hypothesis, indicating that there are no statistically significant differences in the median value of shipments across different shipping methods. This suggests that the choice of shipping method does not substantially impact the value of shipments in this dataset.\n",
    "\n",
    "*  **12**.Failing to reject the null hypothesis: The test did not find enough evidence to conclude that the two groups are significantly different in terms of their distributions.s.ity.\n",
    "  s.\n",
    "## **Managerial Insigh**t*** *\n",
    "* 1.Countries that are major exporters, may have a supply risk. Diversifying suppliers from different countries could reduce this ris**k**.\n",
    "\n",
    "* 2.By identifying the shipping methods most frequently used in imports/exports and convenient according to their geographical area, we can negotiate better rates or explore more cost-efficient method**\n",
    "**\n",
    "* 3.High-value products such as\" \"home,\" and \"animal\" have a significantly higher average value. These should be prioritized for additional marketing and sales efforts, as they are likely generating the most revenue per unit.\n",
    "  \r",
    "  These products might be premium items or have high-value transactions associated with   them. This could be due to their high price points, large quantities, or other factors\n",
    ". : The consistently high average value across these products might suggest that th       e target market for these items values quality or luxury, or that they are expensive b  y natur**\n",
    "**\n",
    "* 4.For countries that generate high total quantity but relatively lower value, there may be opportunities to optimize pricing strategies or improve profit margins. So, reevaluate pricing in high-volume countries like Congo and Uzbekistan introducing targeted pricing strategies, promotions, or bundle offers that could increase the average transaction value without sacrificing. Sweden might be a key focus for high-value products or premium markets. Markets like Albania and Uzbekistan could be targeted for growth strategies, possibly due to lower quantities but significant values**\n",
    "**\n",
    "* 5.A nearly equal distribution of shipping across Air, Land, and Sea suggests a well-balanced shipping strategy. However, if the business grows or demand increases, there may be bottlenecks in one mode (e.g., limited land freight capacity). To avoid that, countries should strengthen their relationships with logistics partners and plan for increased capacity, especially for land and sea shipments, which may become more viable alternatives as costs rise or regulations around air travel ch\n",
    "\n",
    "* **6**.The close proportions (50.28% for imports and 49.72% for exports) suggest a fairly balanced trade environment, where imports and exports are almost equal. Sustaining this balance will help mitigate risks associated with fluctuations in global markets, tariffs, and trade regulations. The company should consistently monitor this equilibrium to remain resilient against economic shifts in both imports and export.\n",
    "\n",
    "* **7**.The statistical insights suggest that the business operates within a stable environment, with consistent performance in quantities sold and product values. Focusing on optimizing inventory management, enhancing pricing strategies, and analyzing the diversity of products will support sustainable growth and operational efficiency. Regular reviews and adjustments based on these insights will help the business adapt to changing market conditions and customer preferences.\n",
    "\n",
    "* **8**.The analysis indicates a stable operational environment with manageable risks and predictable demand patterns. we can capitalize on this stability by refining inventory management strategies, enhancing forecasting accuracy, and focusing on optimizing supply chain operations. By maintaining awareness of potential outliers and market shifts, businesses can remain agile and responsive to changes in customer preferences and market condition\n",
    "\n",
    "*  **9**.we should prioritize strategies that optimize shipping weight, as heavier items contribute positively to transaction value. This could involve negotiating better shipping rates based on weight thresholds or reevaluating supplier contracts to source lighter materials that maintain product quality.\n",
    "\n",
    "Given the lack of significant impact from Quantity on Value, it may be prudent to reassess inventory strategies. This could involve focusing less on maximizing the number of units sold and more on enhancing the value per transaction, possibly through product differentiation or premium pricing strategies.\n",
    "\n",
    "*  **10**.Ghana’s preference for air shipping stands out, possibly reflecting the need for faster delivery of goods, while the other countries primarily use land shipping, which may be more economical for larger volumes. Sweden's Dual Strategy: The significant values for both land and air shipping in Sweden suggest that the country has a well-developed logistics infrastructure that supports various shipping needs. Regional Considerations: The reliance on land shipping in Hungary and Congo may indicate geographic proximity to trade partners, making overland transport a viable option.we should ensure that air shipping for these countries is as cost-effective as possible while maintaining delivery standards.\n",
    "\n",
    "*  **11**.The findings from the Kruskal-Wallis test indicate that there are no significant differences in the median values of shipments across different shipping methods. This suggests that the choice of shipping method may not greatly affect shipment value, allowing us to prioritize operational efficiency and cost-effectiveness in logistics decisions without concerns over compromising value. Organizations can consider optimizing their logistics strategies by focusing on factors such as delivery speed, customer satisfaction, and overall cost, rather than solely on the perceived value associated with different shipping methods.\n",
    "\n",
    "* **12**.The result of the Mann-Whitney U test suggests that the company is maintaining consistency between exports and imports in terms of value. Therefore, we can focus on fine-tuning other operational aspects (such as logistics, inventory management, or market expansion) to improve overall business performance, without needing to reallocate significant resources based on trade value discrepancies.s.ange.s.\n",
    "**"
   ]
  },
  {
   "cell_type": "code",
   "execution_count": 312,
   "id": "8b26776f-b474-418a-808c-36aa6ffe28e9",
   "metadata": {},
   "outputs": [],
   "source": [
    "# Importing Relevant Python Libraries.\n",
    "import pandas as pd\n",
    "import numpy as np"
   ]
  },
  {
   "cell_type": "code",
   "execution_count": null,
   "id": "745debcd-d140-4833-918e-86af51d5d348",
   "metadata": {},
   "outputs": [],
   "source": [
    "# Loading the Data.\n",
    "IE_data = pd.read_csv(\"C:\\\\Users\\\\Rajiv Ranjan\\\\Downloads\\\\Imports_Exports_Dataset.csv\")"
   ]
  },
  {
   "cell_type": "code",
   "execution_count": null,
   "id": "9f1fb08c-9395-42f2-8d3c-0d56d3d24ab5",
   "metadata": {},
   "outputs": [],
   "source": [
    "# Dimensions of Data.\n",
    "IE_data.shape"
   ]
  },
  {
   "cell_type": "code",
   "execution_count": null,
   "id": "ae6cbd6d-2a0e-49b6-b71d-bc409e43b645",
   "metadata": {},
   "outputs": [],
   "source": [
    "# Creating an Unique Sample of 2001 Records using Student Roll Number as Random State.\n",
    "IE_dataset = IE_data.sample(n=3001 , random_state= 55038)"
   ]
  },
  {
   "cell_type": "code",
   "execution_count": null,
   "id": "f3a10f67-e04b-459e-8ea6-7ad4f00eaba6",
   "metadata": {},
   "outputs": [],
   "source": [
    "# Dimensions of Sample Data.\n",
    "IE_dataset.shape"
   ]
  },
  {
   "cell_type": "code",
   "execution_count": null,
   "id": "9a34bc48-d607-4182-9072-8c424ca19d84",
   "metadata": {},
   "outputs": [],
   "source": [
    "# Sample Data Information.\n",
    "IE_dataset.info()"
   ]
  },
  {
   "cell_type": "code",
   "execution_count": null,
   "id": "4c1ca6ad-fd60-47d3-a7b7-9da68bab666a",
   "metadata": {},
   "outputs": [],
   "source": [
    "# First 05 Records of the Sample Data\n",
    "IE_dataset.head(5)"
   ]
  },
  {
   "cell_type": "code",
   "execution_count": null,
   "id": "fe66faf1-a1be-4d74-a73c-b0131226d040",
   "metadata": {},
   "outputs": [],
   "source": [
    "# Subseting the Non-Categorical Variables.\n",
    "non_categorical_columns = ['Quantity', 'Value', 'Customs_Code', 'Weight']\n",
    "non_categorical_df = IE_dataset[non_categorical_columns]\n",
    "print(non_categorical_df)\n",
    "non_cat = IE_dataset[['Quantity', 'Value', 'Customs_Code', 'Weight']]"
   ]
  },
  {
   "cell_type": "code",
   "execution_count": null,
   "id": "1c4dbf0d-0c81-46bd-bbb7-a38c1386f1e3",
   "metadata": {},
   "outputs": [],
   "source": [
    "plt.figure(figsize=(15, 10))\n",
    "\n",
    "for i, column in enumerate(non_categorical_columns, 1):\n",
    "    plt.subplot(2, 3, i)  # Create a grid for the subplots (2 rows, 3 columns)\n",
    "    non_cat.boxplot(column=column, showmeans=True, meanline=True, meanprops={\"linestyle\": \"--\", \"color\": \"red\"})\n",
    "    plt.title(f\"Box Plot of {column}\")\n",
    "\n",
    "plt.tight_layout()\n",
    "plt.show()"
   ]
  },
  {
   "cell_type": "code",
   "execution_count": null,
   "id": "be076f9e-5056-433b-af85-3903ab693aef",
   "metadata": {},
   "outputs": [],
   "source": [
    "correlation_matrix = non_cat.corr()\n",
    "\n",
    "# Plotting a heatmap of the correlation matrix\n",
    "plt.figure(figsize=(10, 8))\n",
    "sns.heatmap(correlation_matrix, annot=True, cmap='coolwarm', linewidths=0.5)\n",
    "plt.title('Correlation Heatmap of Non-Categorical Variables')\n",
    "plt.show()"
   ]
  },
  {
   "cell_type": "code",
   "execution_count": null,
   "id": "0c038a18-4d6d-49d0-9407-ecb2ce975d0b",
   "metadata": {},
   "outputs": [],
   "source": [
    "# Descriptive Statistics of the Non-Categorical Set.\n",
    "non_categorical_stats = non_categorical_df.describe()\n",
    "\n",
    "# Display the statistics\n",
    "print(non_categorical_stats)"
   ]
  },
  {
   "cell_type": "code",
   "execution_count": null,
   "id": "ad1739e9-ba07-4215-993f-e3bfa0191d9c",
   "metadata": {},
   "outputs": [],
   "source": [
    "#Subseting the Categorical Variables.\n",
    "categorical_variables = [\"Country\", \"Product\", \"Import_Export\", \"Category\", \"Port\", \"Shipping_Method\", \"Supplier\", \"Customer\", \"Payment_Terms\"\n",
    "\n",
    "]\n",
    "IE_categorical = IE_dataset[categorical_variables]\n",
    "IE_categorical"
   ]
  },
  {
   "cell_type": "code",
   "execution_count": null,
   "id": "fb89808d-be28-4f71-8232-6845f38b8752",
   "metadata": {},
   "outputs": [],
   "source": [
    "cat = IE_dataset[[\"Country\", \"Product\", \"Import_Export\", \"Category\", \"Port\", \"Shipping_Method\", \"Supplier\", \"Customer\", \"Payment_Terms\"]]\n",
    "\n",
    "# Creating a 2x5 grid of plots: 2 plots (bar and pie) for each variable\n",
    "plt.figure(figsize=(14, 15))\n",
    "\n",
    "for i, column in enumerate(cat.columns):\n",
    "    data = cat[column].value_counts()\n",
    "    \n",
    "    # Bar chart for each variable\n",
    "    plt.subplot(5, 2, 2*i+1)\n",
    "    data.plot(kind='bar', color='skyblue')\n",
    "    plt.title(f'Bar Chart of {column}')\n",
    "    plt.ylabel('Count')\n",
    "    plt.xticks(rotation=0)\n",
    "    \n",
    "    # Pie chart for each variable\n",
    "    plt.subplot(5, 2, 2*i+2)\n",
    "    plt.pie(data, labels=data.index, autopct='%1.1f%%', startangle=90, colors=['#ff9999','#66b3ff','#99ff99','#ffcc99','#c2c2f0','#ffb3e6'])\n",
    "    plt.title(f'Pie Chart of {column}')\n",
    "\n",
    "plt.tight_layout()\n",
    "plt.show()"
   ]
  },
  {
   "cell_type": "code",
   "execution_count": null,
   "id": "9b984255-ad84-42c1-9591-256b86658629",
   "metadata": {},
   "outputs": [],
   "source": [
    "#Descriptive Statistics of Any 01 Categorical Variable.\n",
    "IE_dataset[\"Category\"].value_counts()"
   ]
  },
  {
   "cell_type": "markdown",
   "id": "76ade4a0-249f-4542-8f4a-76850005feb0",
   "metadata": {},
   "source": [
    "## **1.Descriptive Statistics**"
   ]
  },
  {
   "cell_type": "code",
   "execution_count": null,
   "id": "41c3ca51-1a7d-48d2-9282-0ea735a48610",
   "metadata": {},
   "outputs": [],
   "source": [
    "# Mean, Median, Mode\n",
    "non_categorical_df_1 = non_categorical_df = IE_dataset[[\"Quantity\", \"Value\", \"Weight\"]] \n",
    "mean_values = non_categorical_df_1.mean()\n",
    "median_values = non_categorical_df_1.median()\n",
    "mode_values = IE_dataset[[\"Weight\"]].mode()\n",
    "\n",
    "print(\"Mean:\\n\", mean_values)\n",
    "print(\"Median:\\n\", median_values)\n",
    "print(\"Mode:\\n\", mode_values)"
   ]
  },
  {
   "cell_type": "markdown",
   "id": "3b61ced1-2c7f-4e66-bc87-58b462e076e5",
   "metadata": {},
   "source": [
    "The statistical insights suggest that the business operates within a stable environment, with consistent performance in quantities sold and product values. Focusing on optimizing inventory management, enhancing pricing strategies, and analyzing the diversity of products will support sustainable growth and operational efficiency. Regular reviews and adjustments based on these insights will help the business adapt to changing market conditions and customer preferences."
   ]
  },
  {
   "cell_type": "markdown",
   "id": "afec8321-7212-4d7f-8980-3a037d48581c",
   "metadata": {},
   "source": [
    " **Measures of Dispersion**"
   ]
  },
  {
   "cell_type": "code",
   "execution_count": null,
   "id": "ce792454-e8d6-4fe4-866f-2106de41d903",
   "metadata": {},
   "outputs": [],
   "source": [
    "# Range, Standard Deviation, Variance\n",
    "range_values = non_categorical_df.max() - non_categorical_df.min()\n",
    "std_dev_values = non_categorical_df.std()\n",
    "variance_values = non_categorical_df.var()\n",
    "\n",
    "print(\"Range:\\n\", range_values)\n",
    "print(\"Standard Deviation:\\n\", std_dev_values)\n",
    "print(\"Variance:\\n\", variance_values)"
   ]
  },
  {
   "cell_type": "markdown",
   "id": "0ae48875-7fdd-46e9-9131-080bc4c4c233",
   "metadata": {},
   "source": [
    " **Skewness and Kurtosis**"
   ]
  },
  {
   "cell_type": "code",
   "execution_count": null,
   "id": "19c62307-d5a3-4830-93a6-d95e29b27a51",
   "metadata": {},
   "outputs": [],
   "source": [
    "# Skewness and Kurtosis\n",
    "skewness = non_categorical_df.skew()\n",
    "kurtosis = non_categorical_df.kurt()\n",
    "\n",
    "print(\"Skewness:\\n\", skewness)\n",
    "print(\"Kurtosis:\\n\", kurtosis)"
   ]
  },
  {
   "cell_type": "markdown",
   "id": "49a72264-ea04-4f04-bd91-6293087a7101",
   "metadata": {},
   "source": [
    "\n",
    "Skewness Analysis:\n",
    "\n",
    "Quantity: The skewness close to zero indicates that the distribution of quantity sold is approximately symmetric. This suggests a balanced demand for products, which allows for straightforward inventory management and forecasting\n",
    "\n",
    "Value: The slight negative skew suggests that while most values are around the mean, there are a few higher-value transactions. Management should be aware of these outliers, as they may indicate premium products or special orders that could require targeted marketing efforts\n",
    "\n",
    "Weight: Similar to quantity, the nearly zero skewness indicates a balanced distribution, suggesting uniformity in product weights, which aids in logistics planning.\n",
    "\n",
    "Kurtosis Analysis:\n",
    "\n",
    "All Variables: The negative kurtosis values indicate that the distributions are platykurtic, meaning they are flatter than a normal distribution. This suggests lower likelihoods of extreme values (outliers) in the data."
   ]
  },
  {
   "cell_type": "markdown",
   "id": "d5ae6d34-4441-49ab-9500-279c1707b448",
   "metadata": {},
   "source": [
    "**Correlation between Non-Categorical Variables**"
   ]
  },
  {
   "cell_type": "code",
   "execution_count": null,
   "id": "acd42198-51b0-4cab-9003-0f9da9131db2",
   "metadata": {},
   "outputs": [],
   "source": [
    "# Correlation Matrix\n",
    "correlation_matrix = non_categorical_df.corr()\n",
    "\n",
    "print(\"Correlation Matrix:\\n\", correlation_matrix)"
   ]
  },
  {
   "cell_type": "markdown",
   "id": "b576ebc0-35b2-414f-a4ac-0bb6cb4d0014",
   "metadata": {},
   "source": [
    "**regression analysis to evaluate the relationships between  Quantity and Weight—and the dependent variable-Value**"
   ]
  },
  {
   "cell_type": "code",
   "execution_count": null,
   "id": "fc222197-4ac4-46b5-8736-53aaa6439152",
   "metadata": {},
   "outputs": [],
   "source": [
    "import pandas as pd\n",
    "import statsmodels.api as sm\n",
    "\n",
    "# Selecting the dependent and independent variables\n",
    "# Here, 'Value' is the dependent variable, and 'Quantity' and 'Weight' are independent variables\n",
    "X = IE_dataset[['Quantity', 'Weight']]\n",
    "y = IE_dataset['Value']\n",
    "\n",
    "# Add a constant to the independent variables\n",
    "X = sm.add_constant(X)\n",
    "\n",
    "# Fit the regression model\n",
    "model = sm.OLS(y, X).fit()\n",
    "\n",
    "# Print the regression results\n",
    "print(model.summary())\n"
   ]
  },
  {
   "cell_type": "markdown",
   "id": "26cbb7b6-2f83-42e1-920c-86587bcad3ca",
   "metadata": {},
   "source": [
    "R-squared Value:\n",
    "\n",
    "The R-squared value of 0.002 suggests that only 0.2% of the variance in the dependent variable (Value) can be explained by the independent variables (Quantity and Weight). This indicates a poor fit of the model, meaning the independent variables do not explain much of the variability in Value.\n",
    "\n",
    "Adjusted R-squared:\n",
    "\n",
    "The adjusted R-squared is very close to the R-squared value and is also low at 0.001, confirming that the model does not have much explanatory power even after accounting for the number of predictors.\n",
    "\n",
    "F-statistic and p-value:\n",
    "\n",
    "The F-statistic of 2.452 with a p-value of 0.0863 indicates that the overall model is not statistically significant at the common alpha level of 0.05. This suggests that at least one of the independent variables does not contribute significantly to predicting the dependent variable."
   ]
  },
  {
   "cell_type": "markdown",
   "id": "ea9728c3-8745-48e0-8af0-fe5c7f466609",
   "metadata": {},
   "source": [
    "**Kruskal-Wallis H Test: to Compare the Value across different Shipping_Method categories.**"
   ]
  },
  {
   "cell_type": "code",
   "execution_count": 310,
   "id": "b168c0b7-d005-415f-93b1-7373899d7730",
   "metadata": {},
   "outputs": [
    {
     "name": "stdout",
     "output_type": "stream",
     "text": [
      "Kruskal-Wallis test statistic: 0.5955363970225304\n",
      "P-value: 0.7424734262476007\n",
      "Fail to reject the null hypothesis: No significant differences between groups.\n"
     ]
    }
   ],
   "source": [
    "import pandas as pd\n",
    "import scipy.stats as stats\n",
    "\n",
    "# Load the dataset\n",
    "data = IE_dataset\n",
    "\n",
    "# Clean the data: Convert relevant columns to numeric and drop NaNs\n",
    "data['Value'] = pd.to_numeric(data['Value'], errors='coerce')\n",
    "data.dropna(subset=['Value', 'Shipping_Method'], inplace=True)\n",
    "\n",
    "# Perform the Kruskal-Wallis H Test\n",
    "shipping_methods = data['Shipping_Method'].unique()\n",
    "value_by_method = [data[data['Shipping_Method'] == method]['Value'] for method in shipping_methods]\n",
    "\n",
    "# Perform the test\n",
    "stat, p_value = stats.kruskal(*value_by_method)\n",
    "\n",
    "# Print the results\n",
    "print(f\"Kruskal-Wallis test statistic: {stat}\")\n",
    "print(f\"P-value: {p_value}\")\n",
    "\n",
    "# Interpret the result\n",
    "alpha = 0.05\n",
    "if p_value < alpha:\n",
    "    print(\"Reject the null hypothesis: There are significant differences between groups.\")\n",
    "else:\n",
    "    print(\"Fail to reject the null hypothesis: No significant differences between groups.\")\n"
   ]
  },
  {
   "cell_type": "code",
   "execution_count": 308,
   "id": "3ab759eb-09ae-4bb9-b03c-12dbb705d797",
   "metadata": {},
   "outputs": [
    {
     "ename": "KeyError",
     "evalue": "'Import_Export'",
     "output_type": "error",
     "traceback": [
      "\u001b[1;31m---------------------------------------------------------------------------\u001b[0m",
      "\u001b[1;31mKeyError\u001b[0m                                  Traceback (most recent call last)",
      "File \u001b[1;32m~\\anaconda3\\Lib\\site-packages\\pandas\\core\\indexes\\base.py:3805\u001b[0m, in \u001b[0;36mIndex.get_loc\u001b[1;34m(self, key)\u001b[0m\n\u001b[0;32m   3804\u001b[0m \u001b[38;5;28;01mtry\u001b[39;00m:\n\u001b[1;32m-> 3805\u001b[0m     \u001b[38;5;28;01mreturn\u001b[39;00m \u001b[38;5;28mself\u001b[39m\u001b[38;5;241m.\u001b[39m_engine\u001b[38;5;241m.\u001b[39mget_loc(casted_key)\n\u001b[0;32m   3806\u001b[0m \u001b[38;5;28;01mexcept\u001b[39;00m \u001b[38;5;167;01mKeyError\u001b[39;00m \u001b[38;5;28;01mas\u001b[39;00m err:\n",
      "File \u001b[1;32mindex.pyx:167\u001b[0m, in \u001b[0;36mpandas._libs.index.IndexEngine.get_loc\u001b[1;34m()\u001b[0m\n",
      "File \u001b[1;32mindex.pyx:196\u001b[0m, in \u001b[0;36mpandas._libs.index.IndexEngine.get_loc\u001b[1;34m()\u001b[0m\n",
      "File \u001b[1;32mpandas\\\\_libs\\\\hashtable_class_helper.pxi:7081\u001b[0m, in \u001b[0;36mpandas._libs.hashtable.PyObjectHashTable.get_item\u001b[1;34m()\u001b[0m\n",
      "File \u001b[1;32mpandas\\\\_libs\\\\hashtable_class_helper.pxi:7089\u001b[0m, in \u001b[0;36mpandas._libs.hashtable.PyObjectHashTable.get_item\u001b[1;34m()\u001b[0m\n",
      "\u001b[1;31mKeyError\u001b[0m: 'Import_Export'",
      "\nThe above exception was the direct cause of the following exception:\n",
      "\u001b[1;31mKeyError\u001b[0m                                  Traceback (most recent call last)",
      "Cell \u001b[1;32mIn[308], line 2\u001b[0m\n\u001b[0;32m      1\u001b[0m \u001b[38;5;66;03m# Separate the data into two groups\u001b[39;00m\n\u001b[1;32m----> 2\u001b[0m export_values \u001b[38;5;241m=\u001b[39m data[data[\u001b[38;5;124m'\u001b[39m\u001b[38;5;124mImport_Export\u001b[39m\u001b[38;5;124m'\u001b[39m] \u001b[38;5;241m==\u001b[39m \u001b[38;5;124m'\u001b[39m\u001b[38;5;124mExport\u001b[39m\u001b[38;5;124m'\u001b[39m][\u001b[38;5;124m'\u001b[39m\u001b[38;5;124mValue\u001b[39m\u001b[38;5;124m'\u001b[39m]\n\u001b[0;32m      3\u001b[0m import_values \u001b[38;5;241m=\u001b[39m data[data[\u001b[38;5;124m'\u001b[39m\u001b[38;5;124mImport_Export\u001b[39m\u001b[38;5;124m'\u001b[39m] \u001b[38;5;241m==\u001b[39m \u001b[38;5;124m'\u001b[39m\u001b[38;5;124mImport\u001b[39m\u001b[38;5;124m'\u001b[39m][\u001b[38;5;124m'\u001b[39m\u001b[38;5;124mValue\u001b[39m\u001b[38;5;124m'\u001b[39m]\n\u001b[0;32m      5\u001b[0m \u001b[38;5;66;03m# Perform the Mann-Whitney U Test\u001b[39;00m\n",
      "File \u001b[1;32m~\\anaconda3\\Lib\\site-packages\\pandas\\core\\series.py:1121\u001b[0m, in \u001b[0;36mSeries.__getitem__\u001b[1;34m(self, key)\u001b[0m\n\u001b[0;32m   1118\u001b[0m     \u001b[38;5;28;01mreturn\u001b[39;00m \u001b[38;5;28mself\u001b[39m\u001b[38;5;241m.\u001b[39m_values[key]\n\u001b[0;32m   1120\u001b[0m \u001b[38;5;28;01melif\u001b[39;00m key_is_scalar:\n\u001b[1;32m-> 1121\u001b[0m     \u001b[38;5;28;01mreturn\u001b[39;00m \u001b[38;5;28mself\u001b[39m\u001b[38;5;241m.\u001b[39m_get_value(key)\n\u001b[0;32m   1123\u001b[0m \u001b[38;5;66;03m# Convert generator to list before going through hashable part\u001b[39;00m\n\u001b[0;32m   1124\u001b[0m \u001b[38;5;66;03m# (We will iterate through the generator there to check for slices)\u001b[39;00m\n\u001b[0;32m   1125\u001b[0m \u001b[38;5;28;01mif\u001b[39;00m is_iterator(key):\n",
      "File \u001b[1;32m~\\anaconda3\\Lib\\site-packages\\pandas\\core\\series.py:1237\u001b[0m, in \u001b[0;36mSeries._get_value\u001b[1;34m(self, label, takeable)\u001b[0m\n\u001b[0;32m   1234\u001b[0m     \u001b[38;5;28;01mreturn\u001b[39;00m \u001b[38;5;28mself\u001b[39m\u001b[38;5;241m.\u001b[39m_values[label]\n\u001b[0;32m   1236\u001b[0m \u001b[38;5;66;03m# Similar to Index.get_value, but we do not fall back to positional\u001b[39;00m\n\u001b[1;32m-> 1237\u001b[0m loc \u001b[38;5;241m=\u001b[39m \u001b[38;5;28mself\u001b[39m\u001b[38;5;241m.\u001b[39mindex\u001b[38;5;241m.\u001b[39mget_loc(label)\n\u001b[0;32m   1239\u001b[0m \u001b[38;5;28;01mif\u001b[39;00m is_integer(loc):\n\u001b[0;32m   1240\u001b[0m     \u001b[38;5;28;01mreturn\u001b[39;00m \u001b[38;5;28mself\u001b[39m\u001b[38;5;241m.\u001b[39m_values[loc]\n",
      "File \u001b[1;32m~\\anaconda3\\Lib\\site-packages\\pandas\\core\\indexes\\base.py:3812\u001b[0m, in \u001b[0;36mIndex.get_loc\u001b[1;34m(self, key)\u001b[0m\n\u001b[0;32m   3807\u001b[0m     \u001b[38;5;28;01mif\u001b[39;00m \u001b[38;5;28misinstance\u001b[39m(casted_key, \u001b[38;5;28mslice\u001b[39m) \u001b[38;5;129;01mor\u001b[39;00m (\n\u001b[0;32m   3808\u001b[0m         \u001b[38;5;28misinstance\u001b[39m(casted_key, abc\u001b[38;5;241m.\u001b[39mIterable)\n\u001b[0;32m   3809\u001b[0m         \u001b[38;5;129;01mand\u001b[39;00m \u001b[38;5;28many\u001b[39m(\u001b[38;5;28misinstance\u001b[39m(x, \u001b[38;5;28mslice\u001b[39m) \u001b[38;5;28;01mfor\u001b[39;00m x \u001b[38;5;129;01min\u001b[39;00m casted_key)\n\u001b[0;32m   3810\u001b[0m     ):\n\u001b[0;32m   3811\u001b[0m         \u001b[38;5;28;01mraise\u001b[39;00m InvalidIndexError(key)\n\u001b[1;32m-> 3812\u001b[0m     \u001b[38;5;28;01mraise\u001b[39;00m \u001b[38;5;167;01mKeyError\u001b[39;00m(key) \u001b[38;5;28;01mfrom\u001b[39;00m \u001b[38;5;21;01merr\u001b[39;00m\n\u001b[0;32m   3813\u001b[0m \u001b[38;5;28;01mexcept\u001b[39;00m \u001b[38;5;167;01mTypeError\u001b[39;00m:\n\u001b[0;32m   3814\u001b[0m     \u001b[38;5;66;03m# If we have a listlike key, _check_indexing_error will raise\u001b[39;00m\n\u001b[0;32m   3815\u001b[0m     \u001b[38;5;66;03m#  InvalidIndexError. Otherwise we fall through and re-raise\u001b[39;00m\n\u001b[0;32m   3816\u001b[0m     \u001b[38;5;66;03m#  the TypeError.\u001b[39;00m\n\u001b[0;32m   3817\u001b[0m     \u001b[38;5;28mself\u001b[39m\u001b[38;5;241m.\u001b[39m_check_indexing_error(key)\n",
      "\u001b[1;31mKeyError\u001b[0m: 'Import_Export'"
     ]
    }
   ],
   "source": [
    "# Separate the data into two groups\n",
    "export_values = data[data['Import_Export'] == 'Export']['Value']\n",
    "import_values = data[data['Import_Export'] == 'Import']['Value']\n",
    "\n",
    "# Perform the Mann-Whitney U Test\n",
    "u_stat, p_value = stats.mannwhitneyu(export_values, import_values)\n",
    "\n",
    "# Print the results\n",
    "print(f\"Mann-Whitney U test statistic: {u_stat}\")\n",
    "print(f\"P-value: {p_value}\")\n",
    "\n",
    "# Interpret the result\n",
    "if p_value < alpha:\n",
    "    print(\"Reject the null hypothesis: There are significant differences between exports and imports.\")\n",
    "else:\n",
    "    print(\"Fail to reject the null hypothesis: No significant differences between exports and imports.\")\n"
   ]
  },
  {
   "cell_type": "markdown",
   "id": "80c8c2af-f332-4243-96c9-9c5153d1d450",
   "metadata": {},
   "source": [
    "## **2.Categorical Data Analysis**"
   ]
  },
  {
   "cell_type": "markdown",
   "id": "d744d850-56eb-4852-a5d4-ffff66bc58cf",
   "metadata": {},
   "source": [
    "**Frequency Distribution for Categorical Data (e.g., Country, Product, Shipping_Method)**"
   ]
  },
  {
   "cell_type": "code",
   "execution_count": 306,
   "id": "265cdcd5-26d6-4ae8-81e5-a2ec07c3b5d9",
   "metadata": {},
   "outputs": [
    {
     "name": "stdout",
     "output_type": "stream",
     "text": [
      "Frequency of Country:\n",
      " Country\n",
      "Congo                                           33\n",
      "Sweden                                          28\n",
      "Uzbekistan                                      27\n",
      "Austria                                         22\n",
      "Canada                                          22\n",
      "                                                ..\n",
      "Zimbabwe                                         6\n",
      "Eritrea                                          5\n",
      "South Georgia and the South Sandwich Islands     5\n",
      "Faroe Islands                                    5\n",
      "Monaco                                           3\n",
      "Name: count, Length: 243, dtype: int64 \n",
      "\n",
      "Frequency of Product:\n",
      " Product\n",
      "dog           10\n",
      "although      10\n",
      "successful     9\n",
      "behind         9\n",
      "card           9\n",
      "              ..\n",
      "move           1\n",
      "wait           1\n",
      "large          1\n",
      "one            1\n",
      "management     1\n",
      "Name: count, Length: 928, dtype: int64 \n",
      "\n",
      "Frequency of Shipping_Method:\n",
      " Shipping_Method\n",
      "Land    1014\n",
      "Air     1013\n",
      "Sea      974\n",
      "Name: count, dtype: int64 \n",
      "\n",
      "Frequency of Import_Export:\n",
      " Import_Export\n",
      "Import    1509\n",
      "Export    1492\n",
      "Name: count, dtype: int64 \n",
      "\n",
      "Frequency of Payment_Terms:\n",
      " Payment_Terms\n",
      "Cash on Delivery    780\n",
      "Prepaid             752\n",
      "Net 60              746\n",
      "Net 30              723\n",
      "Name: count, dtype: int64 \n",
      "\n"
     ]
    }
   ],
   "source": [
    "# Frequency counts for categorical columns\n",
    "category_columns = ['Country', 'Product', 'Shipping_Method','Import_Export' , \"Payment_Terms\"]\n",
    "for col in category_columns:\n",
    "    print(f\"Frequency of {col}:\\n\", IE_dataset[col].value_counts(), \"\\n\")"
   ]
  },
  {
   "cell_type": "markdown",
   "id": "50a76e94-8c83-478a-a569-cbf3e63e680b",
   "metadata": {},
   "source": [
    "**Frequency of Country**\n",
    "Most Frequent Countries: The top countries like Congo, Sweden, and Uzbekistan have the highest counts (33, 28, and 27 respectively).\n",
    "Lowest Frequency: Countries like Monaco (3) have very low occurrences.\n",
    "\n",
    "Interpretation: This distribution suggests a diverse range of countries involved in your dataset, with some countries being significantly more active or prevalent in the context being analyzed.\n",
    "\n",
    "**Frequency of Product**\n",
    "Most Frequent Products: Common terms like \"dog,\" \"although,\" and \"successful\" have higher counts (10, 10, and 9 respectively).\n",
    "Lowest Frequency: Many products only appear once (e.g., \"management\" and \"one\").\n",
    "\n",
    "Interpretation: The presence of frequent terms indicates popular products or concepts in your dataset, while the many low-frequency items suggest a wide variety of lesser-known products.\n",
    "\n",
    "**Frequency of Shipping_Method**\n",
    "Distribution: Land (1014) and Air (1013) methods are nearly equal and dominate the shipping methods, while Sea (974) has slightly less.\n",
    "\n",
    "Interpretation: This indicates a balanced preference for both land and air shipping methods, which might reflect the nature of the goods being shipped and the urgency of deliveries.\n",
    "\n",
    "**Frequency of Import_Export**\n",
    "Count: Imports (1509) slightly outnumber exports (1492).\n",
    "\n",
    "Interpretation: This may imply a trade imbalance or that the dataset primarily consists of transactions where goods are brought into a country rather than sent out.\n",
    "\n",
    "**Frequency of Payment_Terms**\n",
    "Most Common Terms: \"Cash on Delivery\" (780) is the most popular payment method, followed by \"Prepaid\" (752) and various net payment terms.\n",
    "\n",
    "Interpretation: The popularity of \"Cash on Delivery\" might indicate a preference for immediate payment upon receipt, which could suggest concerns about trust or credit risk among buyers."
   ]
  },
  {
   "cell_type": "markdown",
   "id": "d2e4fdb7-2337-413d-a70d-228413c2d1fa",
   "metadata": {},
   "source": [
    "**Cross-Tabulation ( Country vs Import_Export)**"
   ]
  },
  {
   "cell_type": "code",
   "execution_count": 304,
   "id": "edf47af6-d6f9-4675-9ec4-f5d8b596e1d8",
   "metadata": {},
   "outputs": [
    {
     "name": "stdout",
     "output_type": "stream",
     "text": [
      "Cross-tabulation of Country vs Import/Export:\n",
      " Import_Export   Export  Import\n",
      "Country                       \n",
      "Afghanistan          4       5\n",
      "Albania             12       9\n",
      "Algeria              8       7\n",
      "American Samoa       7       9\n",
      "Andorra              3       6\n"
     ]
    }
   ],
   "source": [
    "# Cross-tabulation of categorical variables\n",
    "country_vs_import_export = pd.crosstab(IE_dataset['Country'], IE_dataset['Import_Export']).head()\n",
    "\n",
    "print(\"Cross-tabulation of Country vs Import/Export:\\n\", country_vs_import_export)"
   ]
  },
  {
   "cell_type": "markdown",
   "id": "1c97804e-ab9c-4266-bd81-3c79f064b4e1",
   "metadata": {},
   "source": [
    "**Specific Country Analysis:**\n",
    "\n",
    "Afghanistan: 4 exports vs. 5 imports. This suggests a slightly higher volume of goods being brought into the country than sent out.\n",
    "\n",
    "Albania: 12 exports vs. 9 imports. Here, exports outnumber imports, indicating a stronger role in exporting goods.\n",
    "\n",
    "Algeria: 8 exports vs. 7 imports. The counts are fairly close, suggesting a balanced trade flow.\n",
    "\n",
    "American Samoa: 7 exports vs. 9 imports. Similar to Afghanistan, there’s a higher volume of imports.\n",
    "\n",
    "Andorra: 3 exports vs. 6 imports. This indicates a significant reliance on imported goods compared to what is being exported.\n",
    "\n",
    "Trade Balance Indicators:\n",
    "\n",
    "Countries like Albania are more export-oriented, while countries like Afghanistan and Andorra show a reliance on imports.\n",
    "The varying counts highlight different trade dynamics. For instance, countries with more exports may have more robust industries or products that are in demand internationally.\n",
    "\n",
    "Overall Interpretation\n",
    "This cross-tabulation gives insights into the trade relationships and economic activities of the listed countries. Countries with more exports might have competitive advantages in certain sectors, while those with more imports could be relying on foreign goods, possibly due to domestic limitations in production or demand for specific products."
   ]
  },
  {
   "cell_type": "markdown",
   "id": "427082bd-b219-4bf9-a161-d3680abc5d9b",
   "metadata": {},
   "source": [
    "**Cross-tabulation of Shipping_Method and Import_Export**"
   ]
  },
  {
   "cell_type": "code",
   "execution_count": 302,
   "id": "65025a7b-2433-4356-b90a-2e6b82d3c595",
   "metadata": {},
   "outputs": [
    {
     "name": "stdout",
     "output_type": "stream",
     "text": [
      "Import_Export    Export  Import\n",
      "Shipping_Method                \n",
      "Air                 485     528\n",
      "Land                486     528\n",
      "Sea                 521     453\n"
     ]
    }
   ],
   "source": [
    "# Cross-tabulation between Shipping Method and Import/Export\n",
    "shipping_import_export_ct = pd.crosstab(IE_dataset['Shipping_Method'], IE_dataset['Import_Export'])\n",
    "\n",
    "print(shipping_import_export_ct)"
   ]
  },
  {
   "cell_type": "markdown",
   "id": "c62e03f5-7ee2-41b5-b98c-57bd77b4d229",
   "metadata": {},
   "source": [
    "Each shipping method is utilized for both imports and exports, reflecting the versatility of these transport options in global trade.\n",
    "\n",
    "Specific Shipping Method Analysis:\n",
    "\n",
    "Air:\n",
    "Exports: 485\n",
    "Imports: 528\n",
    "This shows a slightly higher volume of imports compared to exports, suggesting that air transport is primarily used to bring goods into the country.\n",
    "\n",
    "Land:\n",
    "Exports: 486\n",
    "Imports: 528\n",
    "Similar to air, land shipping also sees more imports than exports, indicating a strong reliance on land transport for incoming goods.\n",
    "\n",
    "Sea:\n",
    "Exports: 521\n",
    "Imports: 453\n",
    "Sea transport has a higher volume of exports compared to imports, which suggests that it is a critical method for sending goods out of the country. This might indicate that sea transport is favored for larger shipments or bulk goods.\n",
    "Trade and Shipping Method Dynamics:\n",
    "\n",
    "The consistency in higher import counts for air and land methods may reflect a strategy of obtaining goods quickly, which is common for imports. This might also indicate the nature of the goods (e.g., perishables, high-demand items) that require faster transport.\n",
    "The sea method's stronger export numbers suggest it is effectively utilized for trading goods on a larger scale, likely due to lower shipping costs for bulk items, which may not be as time-sensitive.\n",
    "\n"
   ]
  },
  {
   "cell_type": "markdown",
   "id": "f82fff1a-be15-44ac-9988-233fc7df710b",
   "metadata": {},
   "source": [
    "**Group by Product and calculate average Value**"
   ]
  },
  {
   "cell_type": "code",
   "execution_count": 300,
   "id": "41df01fa-61c4-4483-836d-ae20ef2eb7bc",
   "metadata": {},
   "outputs": [
    {
     "name": "stdout",
     "output_type": "stream",
     "text": [
      "Product\n",
      "home       9944.05\n",
      "animal     9939.55\n",
      "various    9891.46\n",
      "country    9774.57\n",
      "return     9739.03\n",
      "Name: Value, dtype: float64\n"
     ]
    }
   ],
   "source": [
    "# Group by Product and calculate average Value\n",
    "product_insights = IE_dataset.groupby('Product')['Value'].mean()\n",
    "\n",
    "# Sort to get insights (e.g., top products by average value)\n",
    "product_insights_sorted = product_insights.sort_values(ascending=False)\n",
    "\n",
    "print(product_insights_sorted.head())  # Display top products"
   ]
  },
  {
   "cell_type": "markdown",
   "id": "3d6f9d03-eb38-4752-a3b5-dca77d2ae2fe",
   "metadata": {},
   "source": [
    "The close values among the top four categories (Home, Animal, Various, and Country) suggest that the market may be quite competitive, with products in these categories likely appealing to similar customer segments.\n",
    "The significant difference between the average value of \"Return\" and the other categories might imply that returns are generally less valuable, possibly due to depreciation or being lower-quality items.\n",
    "\n",
    "The high average values for \"Home\" and \"Animal\" suggest strong market demand, while the lower average for \"Return\" indicates a different nature of these transactions. Understanding these values can inform pricing strategies and inventory management, highlighting where to focus marketing efforts or enhance product offerings."
   ]
  },
  {
   "cell_type": "markdown",
   "id": "61098c6f-8d1f-4673-9fbb-81a126feecc6",
   "metadata": {},
   "source": [
    "**Group by Country and calculate total Value and Quantity**"
   ]
  },
  {
   "cell_type": "code",
   "execution_count": 298,
   "id": "6e5689ad-260a-4fcc-9648-490caccb9654",
   "metadata": {},
   "outputs": [
    {
     "name": "stdout",
     "output_type": "stream",
     "text": [
      "                Value  Quantity\n",
      "Country                        \n",
      "Congo       160331.67    163307\n",
      "Uzbekistan  152744.93    138536\n",
      "Sweden      148020.64    157122\n",
      "Canada      128101.64    143393\n",
      "Albania     124786.42     89187\n"
     ]
    }
   ],
   "source": [
    "# Group by Country and calculate total Value and Quantity\n",
    "country_insights = IE_dataset.groupby('Country').agg({'Value': 'sum', 'Quantity': 'sum'})\n",
    "\n",
    "# Sort values to get insights (e.g., top countries by total value)\n",
    "country_insights_sorted = country_insights.sort_values(by='Value', ascending=False)\n",
    "\n",
    "print(country_insights_sorted.head())  # Display top countries"
   ]
  },
  {
   "cell_type": "markdown",
   "id": "19770013-00be-48a1-a9d7-5e6216615cc7",
   "metadata": {},
   "source": [
    "Country Rankings by Total Value:\n",
    "\n",
    "Congo:\n",
    "\n",
    "The highest total value and quantity suggest that Congo has a significant volume of trade and possibly a strong demand for goods or services.\n",
    "\n",
    "Uzbekistan:\n",
    "Close to Congo in value, indicating a robust trading relationship or economic activity.\n",
    "\n",
    "Sweden:\n",
    "Also shows high values, with a notable quantity, suggesting diverse product offerings.\n",
    "\n",
    "Canada:\n",
    "Strong totals, indicating significant trade, but lower than the top three countries.\n",
    "\n",
    "Albania:\n",
    "The lowest total value and quantity among the listed countries, which could suggest less economic activity or lower demand.\n",
    "\n",
    "**Insights into Trade Dynamics:**\n",
    "\n",
    "Congo's Leadership: The highest total value and quantity indicate it may be a primary hub for certain goods, possibly reflecting specific trade relationships or industries.\n",
    "Comparative Analysis: The values for Uzbekistan and Sweden show strong economic activity, potentially in similar or complementary markets.\n",
    "Albania's Position: The lower totals could indicate it is either a smaller market for certain goods or potentially facing economic challenges."
   ]
  },
  {
   "cell_type": "markdown",
   "id": "293b0080-7356-4b20-917b-4021ff724850",
   "metadata": {},
   "source": [
    "**Calculate the proportion of each Shipping Method**"
   ]
  },
  {
   "cell_type": "code",
   "execution_count": 296,
   "id": "19ee8d68-e3eb-4c4e-9498-8718f4e66522",
   "metadata": {},
   "outputs": [
    {
     "name": "stdout",
     "output_type": "stream",
     "text": [
      "Shipping_Method\n",
      "Land    0.337887\n",
      "Air     0.337554\n",
      "Sea     0.324558\n",
      "Name: proportion, dtype: float64\n"
     ]
    }
   ],
   "source": [
    "# Calculate the proportion of each Shipping Method\n",
    "shipping_method_proportion = IE_dataset['Shipping_Method'].value_counts(normalize=True)\n",
    "\n",
    "print(shipping_method_proportion)  # Display the proportion of each shipping method"
   ]
  },
  {
   "cell_type": "markdown",
   "id": "4f944bd0-570c-4ad9-91ce-32787fae5d7b",
   "metadata": {},
   "source": [
    "Shipping Method Proportions:\n",
    "\n",
    "Land: 0.337887 (33.79%)\n",
    "Land transport accounts for approximately 33.79% of the total shipping methods used. This suggests a strong reliance on land for moving goods, possibly due to geographic factors or the nature of the products being shipped.\n",
    "\n",
    "Air: 0.337554 (33.76%)\n",
    "Air transport makes up about 33.76% of the total. This indicates a nearly equal preference for air shipping compared to land, which may be driven by the need for speed and efficiency, especially for high-value or time-sensitive goods.\n",
    "\n",
    "Sea: 0.324558 (32.46%)\n",
    "Sea transport represents around 32.46% of the total shipping methods. Although it is the least used among the three methods, it is still a significant proportion, likely reflecting its use for bulk shipments and lower-cost transport for less time-sensitive goods.\n",
    "\n",
    "Comparison of Methods:\n",
    "\n",
    "The proportions for land and air shipping are very close, suggesting that both methods are almost equally favored. This balance could indicate that businesses are using both methods interchangeably depending on specific logistical needs.\n",
    "Sea shipping, while slightly lower in proportion, is still a critical part of the logistics strategy, particularly for bulk and international shipping."
   ]
  },
  {
   "cell_type": "markdown",
   "id": "a1d55fc0-49b3-4cc7-81d9-6b547d3a3b13",
   "metadata": {},
   "source": [
    "**Calculate the proportion of Import vs Export**"
   ]
  },
  {
   "cell_type": "code",
   "execution_count": 294,
   "id": "d3b924a4-c933-4461-8e74-4033f3a8d999",
   "metadata": {},
   "outputs": [
    {
     "name": "stdout",
     "output_type": "stream",
     "text": [
      "Import_Export\n",
      "Import    0.502832\n",
      "Export    0.497168\n",
      "Name: proportion, dtype: float64\n"
     ]
    }
   ],
   "source": [
    "# Calculate the proportion of Import vs Export\n",
    "import_export_proportion = IE_dataset['Import_Export'].value_counts(normalize=True)\n",
    "\n",
    "print(import_export_proportion)  # Display the proportion of Import/Export"
   ]
  },
  {
   "cell_type": "markdown",
   "id": "017bf422-cdf4-45fc-b05f-30ac77d58ed7",
   "metadata": {},
   "source": [
    "Import Proportion:\n",
    "\n",
    "Import: 0.502832 (50.28%)\n",
    "Imports account for approximately 50.28% of the total transactions. This indicates a slight majority, suggesting that more goods are being brought into the country compared to what is being exported.\n",
    "Export Proportion:\n",
    "\n",
    "Export: 0.497168 (49.72%)\n",
    "Exports make up about 49.72% of the total transactions. This is very close to the import proportion, indicating a nearly balanced trade situation.\n",
    "Analysis of Balance:\n",
    "\n",
    "The close proportions (50.28% for imports and 49.72% for exports) suggest a fairly balanced trade environment, where imports and exports are almost equal.\n",
    "This slight lean towards imports could indicate a market that is dependent on foreign goods or raw materials while still maintaining a robust export capability."
   ]
  },
  {
   "cell_type": "markdown",
   "id": "fe96aa45-db09-458e-955b-fd5147aaafb3",
   "metadata": {},
   "source": [
    "**Group by Country and Shipping_Method**"
   ]
  },
  {
   "cell_type": "code",
   "execution_count": 292,
   "id": "19a7f5c1-1136-420b-ab44-9c335a7e4e32",
   "metadata": {},
   "outputs": [
    {
     "name": "stdout",
     "output_type": "stream",
     "text": [
      "Country  Shipping_Method\n",
      "Ghana    Air                77221.50\n",
      "Sweden   Land               70073.67\n",
      "Hungary  Land               67487.19\n",
      "Sweden   Air                65646.79\n",
      "Congo    Land               64889.88\n",
      "Name: Value, dtype: float64\n"
     ]
    }
   ],
   "source": [
    "# Group by Country and Shipping Method, and calculate the total Value\n",
    "country_shipping_insights = IE_dataset.groupby(['Country', 'Shipping_Method'])['Value'].sum()\n",
    "\n",
    "# Sort to see the top combinations\n",
    "country_shipping_sorted = country_shipping_insights.sort_values(ascending=False)\n",
    "\n",
    "print(country_shipping_sorted.head())  # Display the top combinations\n"
   ]
  },
  {
   "cell_type": "markdown",
   "id": "3e08a6c2-0af9-44a6-a71f-a1d3179c2c3d",
   "metadata": {},
   "source": [
    "Country and Shipping Method Analysis:\n",
    "\n",
    "Ghana (Air):\n",
    "Value: 77,221.50\n",
    "Ghana shows the highest value using air shipping, indicating a significant reliance on air transport for importing or exporting goods, possibly due to the need for speed or high-value items.\n",
    "\n",
    "Sweden (Land):\n",
    "Value: 70,073.67\n",
    "Sweden utilizes land shipping effectively, suggesting a strong logistics network for moving goods domestically or to neighboring countries.\n",
    "    \n",
    "Hungary (Land):\n",
    "Value: 67,487.19\n",
    "Similar to Sweden, Hungary’s use of land shipping indicates it plays an important role in their trade dynamics, likely benefitting from geographic advantages.\n",
    "\n",
    "Sweden (Air):\n",
    "Value: 65,646.79\n",
    "Sweden also utilizes air shipping significantly, reflecting a dual strategy of both air and land transport to manage trade efficiently.\n",
    "    \n",
    "Congo (Land):\n",
    "Value: 64,889.88\n",
    "Congo’s use of land transport highlights its importance in the region, possibly indicating a reliance on overland trade routes.\n",
    "Insights into Shipping Preferences:\n",
    "\n",
    "Air vs. Land:\n",
    "Ghana’s preference for air shipping stands out, possibly reflecting the need for faster delivery of goods, while the other countries primarily use land shipping, which may be more economical for larger volumes.\n",
    "Sweden's Dual Strategy:\n",
    "The significant values for both land and air shipping in Sweden suggest that the country has a well-developed logistics infrastructure that supports various shipping needs.\n",
    "Regional Considerations:\n",
    "The reliance on land shipping in Hungary and Congo may indicate geographic proximity to trade partners, making overland transport a viable option.\n"
   ]
  },
  {
   "cell_type": "markdown",
   "id": "bf8388fb-8eb1-4648-b03b-b2f603390345",
   "metadata": {},
   "source": [
    "**Frequency of each port**"
   ]
  },
  {
   "cell_type": "code",
   "execution_count": 290,
   "id": "f44db4de-089d-4fdb-b9fd-d8c4f1c54c6b",
   "metadata": {},
   "outputs": [
    {
     "name": "stdout",
     "output_type": "stream",
     "text": [
      "Port\n",
      "Lake Michael    6\n",
      "Michaelland     5\n",
      "West Michael    5\n",
      "East Lisa       5\n",
      "South David     5\n",
      "Name: count, dtype: int64\n"
     ]
    }
   ],
   "source": [
    "# Count the frequency of each Port\n",
    "port_frequency = IE_dataset['Port'].value_counts()\n",
    "\n",
    "print(port_frequency.head())  # Display the top 5 most frequent ports"
   ]
  },
  {
   "cell_type": "markdown",
   "id": "b96826fb-abc9-41f1-a490-000ede009c72",
   "metadata": {},
   "source": [
    "Dominance of Lake Michael: The higher frequency at Lake Michael (6) compared to the others may indicate that it serves a larger volume of goods or a wider variety of services.\n",
    "Equivalence Among Other Ports: The equal frequency of 5 for Michaelland, West Michael, East Lisa, and South David suggests that these ports have similar levels of activity, making them vital for trade but perhaps specialized in different types of cargo or routes."
   ]
  },
  {
   "cell_type": "markdown",
   "id": "40575536-0efd-4812-9393-f0fed78d67bc",
   "metadata": {},
   "source": [
    "# Inferential statistics"
   ]
  },
  {
   "cell_type": "code",
   "execution_count": 288,
   "id": "990d66a0-6460-4d2c-9704-8bdbb00c4edd",
   "metadata": {},
   "outputs": [
    {
     "name": "stdout",
     "output_type": "stream",
     "text": [
      "t-statistic: 0.5764340240658283\n",
      "p-value: 0.5643651107756693\n"
     ]
    }
   ],
   "source": [
    "from scipy import stats\n",
    "\n",
    "# Subsetting data for imports and exports\n",
    "import_data = IE_dataset[IE_dataset['Import_Export'] == 'Import']['Value']\n",
    "export_data = IE_dataset[IE_dataset['Import_Export'] == 'Export']['Value']\n",
    "\n",
    "# t-test to compare means of import vs export values\n",
    "t_stat, p_value = stats.ttest_ind(import_data, export_data)\n",
    "\n",
    "print(\"t-statistic:\", t_stat)\n",
    "print(\"p-value:\", p_value)"
   ]
  },
  {
   "cell_type": "markdown",
   "id": "30e6cd40-9b7f-49e3-8dc3-b7d54c15cafb",
   "metadata": {},
   "source": [
    "**Chi-Square Test for Categorical Variables ( Country vs Import_Export)**"
   ]
  },
  {
   "cell_type": "code",
   "execution_count": 286,
   "id": "d58fdab5-f351-4ed0-9c69-2deb428969db",
   "metadata": {},
   "outputs": [
    {
     "name": "stdout",
     "output_type": "stream",
     "text": [
      "Chi-squared Statistic: 235.91882570460217\n",
      "p-value: 0.5980851994138451\n"
     ]
    }
   ],
   "source": [
    "# Chi-squared test of independence between Country and Import_Export\n",
    "contingency_table = pd.crosstab(IE_dataset['Country'], IE_dataset['Import_Export'])\n",
    "chi2_stat, p_val, dof, ex = stats.chi2_contingency(contingency_table)\n",
    "\n",
    "print(\"Chi-squared Statistic:\", chi2_stat)\n",
    "print(\"p-value:\", p_val)"
   ]
  },
  {
   "cell_type": "markdown",
   "id": "fb81061d-cf6e-46d2-ae96-1deee63b2219",
   "metadata": {},
   "source": [
    "The high p-value which is higher than the common significance level threshold (0.05) indicates that there is no statistically significant association between the country and whether a transaction is classified as an import or export. In other words, the choice of import or export does not depend on the country in this dataset."
   ]
  },
  {
   "cell_type": "markdown",
   "id": "f6dc4325-c37c-4887-8079-37c4e97be777",
   "metadata": {},
   "source": [
    "**ANOVA (Compare Value Across Different Product Categories)**"
   ]
  },
  {
   "cell_type": "code",
   "execution_count": 284,
   "id": "4c9c8e9d-cc79-4789-ba5f-8982a3e008a2",
   "metadata": {},
   "outputs": [
    {
     "name": "stdout",
     "output_type": "stream",
     "text": [
      "ANOVA F-statistic: 1.009300952031216\n",
      "p-value: 0.43137793491634957\n"
     ]
    }
   ],
   "source": [
    "product_groups = [group['Value'].values for name, group in IE_dataset.groupby('Product')]\n",
    "\n",
    "f_stat, p_value = stats.f_oneway(*product_groups)\n",
    "\n",
    "print(\"ANOVA F-statistic:\", f_stat)\n",
    "print(\"p-value:\", p_value)"
   ]
  },
  {
   "cell_type": "markdown",
   "id": "b4113056-fe33-4b70-b0cc-5ebd76657a1a",
   "metadata": {},
   "source": [
    "No Significant Difference: The high p-value suggests that there is no statistically significant difference in the average values across the different product categories. In other words, the variation in product values does not differ enough to suggest that at least one product category has a different average value compared to the others."
   ]
  },
  {
   "cell_type": "markdown",
   "id": "71bdbf4f-e4e3-4138-8d7d-86bc5ff4410b",
   "metadata": {},
   "source": [
    "##  **Visualization**"
   ]
  },
  {
   "cell_type": "markdown",
   "id": "dfb5d08e-3460-4eb1-944c-cdc3ad12e70b",
   "metadata": {},
   "source": [
    "**Boxplot for value based on shipping method**"
   ]
  },
  {
   "cell_type": "code",
   "execution_count": null,
   "id": "da0769ec-c8a2-4ef0-a527-1ac7cfdf55ac",
   "metadata": {},
   "outputs": [],
   "source": [
    "import seaborn as sns  # Import seaborn for visualization\n",
    "import matplotlib.pyplot as plt  # Import matplotlib for plotting\n",
    "\n",
    "# Boxplot for value based on shipping method\n",
    "sns.boxplot(x='Shipping_Method', y='Value', data=IE_dataset)\n",
    "plt.title('Boxplot of Value by Shipping Method')\n",
    "plt.show()\n"
   ]
  },
  {
   "cell_type": "markdown",
   "id": "eb3e7eb1-de0d-4662-aeb1-1492f947b3a5",
   "metadata": {},
   "source": [
    "**Scatter Plot of Quantity vs Value**"
   ]
  },
  {
   "cell_type": "code",
   "execution_count": 276,
   "id": "0ef164ec-c3c5-4256-96aa-4e5bfe10014f",
   "metadata": {},
   "outputs": [
    {
     "data": {
      "image/png": "[encoded data removed]",
      "text/plain": [
       "<Figure size 640x480 with 1 Axes>"
      ]
     },
     "metadata": {},
     "output_type": "display_data"
    }
   ],
   "source": [
    "# Scatter plot of Quantity vs Value\n",
    "plt.scatter(IE_dataset['Quantity'], IE_dataset['Value'])\n",
    "plt.title('Scatter Plot of Quantity vs Value')\n",
    "plt.xlabel('Quantity')\n",
    "plt.ylabel('Value')\n",
    "plt.show()"
   ]
  },
  {
   "cell_type": "markdown",
   "id": "fc43d529-2329-442f-aba5-914675e69e2c",
   "metadata": {},
   "source": [
    "**Histogram of Value**"
   ]
  },
  {
   "cell_type": "code",
   "execution_count": 278,
   "id": "6069be90-f9f8-4869-a50f-23fffe83b38c",
   "metadata": {},
   "outputs": [
    {
     "data": {
      "image/png": "[encoded data removed]",
      "text/plain": [
       "<Figure size 640x480 with 1 Axes>"
      ]
     },
     "metadata": {},
     "output_type": "display_data"
    }
   ],
   "source": [
    "# Histogram of the 'Value' column\n",
    "plt.hist(IE_dataset['Value'], bins=20, edgecolor='k')\n",
    "plt.title('Histogram of Transaction Values')\n",
    "plt.xlabel('Value')\n",
    "plt.ylabel('Frequency')\n",
    "plt.show()"
   ]
  },
  {
   "cell_type": "markdown",
   "id": "e2d69486-c4a3-4f87-b655-2a73b9c013fd",
   "metadata": {},
   "source": [
    "**Pie chart for payment terms**"
   ]
  },
  {
   "cell_type": "code",
   "execution_count": 280,
   "id": "8a0c7d80-4b91-42f1-a588-2bc3c245448d",
   "metadata": {},
   "outputs": [
    {
     "data": {
      "image/png": "[encoded data removed]",
      "text/plain": [
       "<Figure size 640x480 with 1 Axes>"
      ]
     },
     "metadata": {},
     "output_type": "display_data"
    }
   ],
   "source": [
    "prepaid = 0 \n",
    "net30 = 0\n",
    "cod = 0\n",
    "net60 = 0\n",
    "\n",
    "\n",
    "for i in range(len(IE_dataset['Payment_Terms'])):\n",
    "    payment_term = IE_dataset['Payment_Terms'].iloc[i] \n",
    "    \n",
    "    if payment_term == 'Prepaid':\n",
    "        prepaid += 1  # Increment the count for prepaid\n",
    "        \n",
    "    elif payment_term == 'Net 30':\n",
    "        net30 += 1  # Increment the count for Net 30\n",
    "        \n",
    "    elif payment_term == 'Cash on Delivery':\n",
    "        cod += 1  # Increment the count for Cash on Delivery\n",
    "        \n",
    "    elif payment_term == 'Net 60':\n",
    "        net60 += 1  # Increment the count for Net 60\n",
    "\n",
    "Payment_Terms = [prepaid, net30, cod, net60]\n",
    "labels = ['Prepaid', 'Net 30', 'Cash on Delivery', 'Net 60']\n",
    "\n",
    "plt.pie(Payment_Terms, labels=labels, autopct='%.2f')\n",
    "plt.title('Pie Plot of Payment Terms')\n",
    "\n",
    "plt.show()"
   ]
  },
  {
   "cell_type": "code",
   "execution_count": 282,
   "id": "43be8c85-bfcd-4af1-9f84-3b6dd621d79a",
   "metadata": {},
   "outputs": [
    {
     "data": {
      "image/png": "[encoded data removed]",
      "text/plain": [
       "<Figure size 1200x700 with 1 Axes>"
      ]
     },
     "metadata": {},
     "output_type": "display_data"
    }
   ],
   "source": [
    "import pandas as pd\n",
    "import matplotlib.pyplot as plt\n",
    "import seaborn as sns\n",
    "\n",
    "# Count the number of transactions for each shipping method\n",
    "shipping_method_counts = IE_dataset['Shipping_Method'].value_counts().reset_index()\n",
    "shipping_method_counts.columns = ['Shipping_Method', 'Number_of_Transactions']\n",
    "\n",
    "# Create a bar chart\n",
    "plt.figure(figsize=(12, 7))\n",
    "bar_plot = sns.barplot(data=shipping_method_counts, \n",
    "                       x='Shipping_Method', \n",
    "                       y='Number_of_Transactions', \n",
    "                       palette='viridis', \n",
    "                       hue='Shipping_Method', \n",
    "                       dodge=False)\n",
    "\n",
    "# Adding titles and labels\n",
    "plt.title('Distribution of Shipping Methods', fontsize=16)\n",
    "plt.xlabel('Shipping Method', fontsize=14)\n",
    "plt.ylabel('Number of Transactions', fontsize=14)\n",
    "\n",
    "# Add data labels on top of each bar\n",
    "for p in bar_plot.patches:\n",
    "    bar_plot.annotate(f'{int(p.get_height())}', \n",
    "                      (p.get_x() + p.get_width() / 2., p.get_height()), \n",
    "                      ha='center', va='bottom', \n",
    "                      fontsize=12, color='black', \n",
    "                      xytext=(0, 5),  # Offset text\n",
    "                      textcoords='offset points')\n",
    "\n",
    "# Show the plot\n",
    "plt.xticks(rotation=45)\n",
    "plt.tight_layout()\n",
    "plt.grid(axis='y', linestyle='--', alpha=0.7)\n",
    "plt.show()\n"
   ]
  },
  {
   "cell_type": "code",
   "execution_count": null,
   "id": "8777e205-7099-4170-b016-1f4f55f46c00",
   "metadata": {},
   "outputs": [],
   "source": []
  }
 ],
 "metadata": {
  "kernelspec": {
   "display_name": "Python 3 (ipykernel)",
   "language": "python",
   "name": "python3"
  },
  "language_info": {
   "codemirror_mode": {
    "name": "ipython",
    "version": 3
   },
   "file_extension": ".py",
   "mimetype": "text/x-python",
   "name": "python",
   "nbconvert_exporter": "python",
   "pygments_lexer": "ipython3",
   "version": "3.12.4"
  }
 },
 "nbformat": 4,
 "nbformat_minor": 5
}
